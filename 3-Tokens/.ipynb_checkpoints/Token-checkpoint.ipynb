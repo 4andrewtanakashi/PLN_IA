{
 "cells": [
  {
   "cell_type": "code",
   "execution_count": 2,
   "metadata": {},
   "outputs": [
    {
     "name": "stdout",
     "output_type": "stream",
     "text": [
      "showing info https://raw.githubusercontent.com/nltk/nltk_data/gh-pages/index.xml\n"
     ]
    }
   ],
   "source": [
    "import ast\n",
    "import json\n",
    "import nltk\n",
    "nltk.download()\n",
    "import string\n",
    "import pandas as pd"
   ]
  },
  {
   "cell_type": "code",
   "execution_count": 3,
   "metadata": {},
   "outputs": [],
   "source": [
    "with open('matching', 'r') as f:\n",
    "    lista = ast.literal_eval(f.read())\n",
    "\n",
    "arq = open(\"matching2.txt\", \"w\")\n",
    "for i in lista:\n",
    "    for j in i:\n",
    "        if (j != 0 and j != 1):\n",
    "            arq.write(str(j[0]) + \"\\n\")\n",
    "            arq.write(str(j[1]) + \"\\n\")\n",
    "        else:\n",
    "            arq.write(str(j) + \"\\n\")\n",
    "\n",
    "arq.close()\n",
    "\n",
    "with open(\"product.json\") as file:\n",
    "    data = json.load(file)"
   ]
  },
  {
   "cell_type": "code",
   "execution_count": 4,
   "metadata": {},
   "outputs": [],
   "source": [
    "# ler o arquivo reescrito\n",
    "# formatacao melhorada\n",
    "arq2 = open(\"matching2.txt\", \"r\")\n",
    "lisAmer = []\n",
    "lAmeMod = []\n",
    "lAmeSisInc = []\n",
    "lAmeProc = []\n",
    "lAmePlVid = []\n",
    "\n",
    "lisBah = []\n",
    "lBahSisInc = []\n",
    "lBahProc = []\n",
    "lBahPlVid = []\n",
    "\n",
    "lisM = []\n",
    "\n",
    "\n",
    "while True:\n",
    "    try:\n",
    "        x = arq2.readline().rstrip()\n",
    "\n",
    "        if (x == ''):\n",
    "            break\n",
    "\n",
    "        lisAmer.append(data[x][\"title\"])\n",
    "\n",
    "        if \"Modelo\" in data[x]:\n",
    "            lAmeMod.append(data[x][\"Modelo\"])\n",
    "        else:\n",
    "            lAmeMod.append(\" \")\n",
    "\n",
    "        if \"Softwares inclusos\" in data[x]:\n",
    "            lAmeSisInc.append(data[x][\"Softwares inclusos\"])\n",
    "        else:\n",
    "            lAmeSisInc.append(\" \")\n",
    "\n",
    "        if \"Processador\" in data[x]:\n",
    "            lAmeProc.append(data[x][\"Processador\"])\n",
    "        else:\n",
    "            lAmeProc.append(\" \")\n",
    "\n",
    "        if \"Placa de vídeo\" in data[x]:\n",
    "            lAmePlVid.append(data[x][\"Placa de vídeo\"])\n",
    "        else:\n",
    "            lAmePlVid.append(\" \")\n",
    "\n",
    "        y = arq2.readline().rstrip()\n",
    "        if (y == ''):\n",
    "            break\n",
    "        lisBah.append(data[y][\"title\"])\n",
    "\n",
    "        if \"Softwares inclusos\" in data[y]:\n",
    "            lBahSisInc.append(data[y][\"Softwares inclusos\"])\n",
    "        else:\n",
    "            lBahSisInc.append(\" \")\n",
    "\n",
    "        if \"Processador\" in data[y]:\n",
    "            lBahProc.append(data[y][\"Processador\"])\n",
    "        else:\n",
    "            lBahProc.append(\" \")\n",
    "\n",
    "        if \"Placa de vídeo\" in data[y]:\n",
    "            lBahPlVid.append(data[y][\"Placa de vídeo\"])\n",
    "        else:\n",
    "            lBahPlVid.append(\" \")\n",
    "\n",
    "\n",
    "        z = arq2.readline().rstrip()\n",
    "        if (z == ''):\n",
    "            break\n",
    "        lisM.append(int(z))\n",
    "\n",
    "    except EOFError:\n",
    "        break\n",
    "\n",
    "arq2.close()"
   ]
  },
  {
   "cell_type": "code",
   "execution_count": 5,
   "metadata": {},
   "outputs": [],
   "source": [
    "stopwords_list = nltk.corpus.stopwords.words('portuguese')\n",
    "\n",
    "def tokenize_words(t):\n",
    "    return nltk.tokenize.word_tokenize(t)\n",
    "\n",
    "def remove_stopwords(tokens):\n",
    "    return [t for t in tokens if t not in stopwords_list]\n",
    "\n",
    "def remove_punctuation(t):\n",
    "    return t.translate(str.maketrans('','',string.punctuation))\n",
    "\n",
    "def word_overlap(t1, t2):\n",
    "    tokens1 = remove_stopwords(tokenize_words(remove_punctuation(t1)))\n",
    "    tokens2 = remove_stopwords(tokenize_words(remove_punctuation(t2)))\n",
    "    matches = [1 for t in tokens1 if t in tokens2]\n",
    "    return sum(matches) / (len(tokens1) + len(tokens2))"
   ]
  },
  {
   "cell_type": "code",
   "execution_count": 6,
   "metadata": {},
   "outputs": [],
   "source": [
    "textAme = \"\"\n",
    "textBah = \"\"\n",
    "lisT = []\n",
    "palavraTest = \"Para ficar ainda melhor\"\n",
    "\n",
    "for i in range(len(lisAmer)):\n",
    "    textAme += lisAmer[i] + lAmeMod[i] + lAmeSisInc[i] + lAmeProc[i] + lAmePlVid[i]\n",
    "    textBah += lisBah[i] + lBahSisInc[i] + lBahProc[i] + lBahPlVid[i]\n",
    "    #if (not (palavraTest in lBahSisInc[i])):\n",
    "    #    textBah += lisBah[i] + lBahSisInc[i] + lBahProc[i] + lBahPlVid[i]\n",
    "    #else:\n",
    "    #    textBah += lisBah[i] + lBahProc[i] + lBahPlVid[i]\n",
    "    token = word_overlap(textAme, textBah)\n",
    "    lisT.append(token)"
   ]
  },
  {
   "cell_type": "code",
   "execution_count": 9,
   "metadata": {},
   "outputs": [],
   "source": [
    "data = {\"x0_amer\":lisAmer, \"x1_ameMod\": lAmeMod, \"x2_ameSoftInc\": lAmeSisInc, \"x3_AmeProc\":lAmeProc, \"x4_AmePlacVid\":lAmePlVid, \n",
    "        \"x5_bahia\":lisBah, \"x6_bahSoftInc\": lBahSisInc, \"x7_BahProc\":lBahProc, \"x8_BahPlacVid\": lBahPlVid,\n",
    "        \"x\":lisT, \"y\":lisM\n",
    "        }\n",
    "df = pd.DataFrame(data)"
   ]
  },
  {
   "cell_type": "code",
   "execution_count": 11,
   "metadata": {},
   "outputs": [
    {
     "ename": "KeyError",
     "evalue": "9",
     "output_type": "error",
     "traceback": [
      "\u001b[0;31m---------------------------------------------------------------------------\u001b[0m",
      "\u001b[0;31mKeyError\u001b[0m                                  Traceback (most recent call last)",
      "\u001b[0;32m/usr/local/lib/python3.6/dist-packages/pandas/core/indexes/base.py\u001b[0m in \u001b[0;36mget_loc\u001b[0;34m(self, key, method, tolerance)\u001b[0m\n\u001b[1;32m   2656\u001b[0m             \u001b[0;32mtry\u001b[0m\u001b[0;34m:\u001b[0m\u001b[0;34m\u001b[0m\u001b[0;34m\u001b[0m\u001b[0m\n\u001b[0;32m-> 2657\u001b[0;31m                 \u001b[0;32mreturn\u001b[0m \u001b[0mself\u001b[0m\u001b[0;34m.\u001b[0m\u001b[0m_engine\u001b[0m\u001b[0;34m.\u001b[0m\u001b[0mget_loc\u001b[0m\u001b[0;34m(\u001b[0m\u001b[0mkey\u001b[0m\u001b[0;34m)\u001b[0m\u001b[0;34m\u001b[0m\u001b[0;34m\u001b[0m\u001b[0m\n\u001b[0m\u001b[1;32m   2658\u001b[0m             \u001b[0;32mexcept\u001b[0m \u001b[0mKeyError\u001b[0m\u001b[0;34m:\u001b[0m\u001b[0;34m\u001b[0m\u001b[0;34m\u001b[0m\u001b[0m\n",
      "\u001b[0;32mpandas/_libs/index.pyx\u001b[0m in \u001b[0;36mpandas._libs.index.IndexEngine.get_loc\u001b[0;34m()\u001b[0m\n",
      "\u001b[0;32mpandas/_libs/index.pyx\u001b[0m in \u001b[0;36mpandas._libs.index.IndexEngine.get_loc\u001b[0;34m()\u001b[0m\n",
      "\u001b[0;32mpandas/_libs/hashtable_class_helper.pxi\u001b[0m in \u001b[0;36mpandas._libs.hashtable.PyObjectHashTable.get_item\u001b[0;34m()\u001b[0m\n",
      "\u001b[0;32mpandas/_libs/hashtable_class_helper.pxi\u001b[0m in \u001b[0;36mpandas._libs.hashtable.PyObjectHashTable.get_item\u001b[0;34m()\u001b[0m\n",
      "\u001b[0;31mKeyError\u001b[0m: 9",
      "\nDuring handling of the above exception, another exception occurred:\n",
      "\u001b[0;31mKeyError\u001b[0m                                  Traceback (most recent call last)",
      "\u001b[0;32m<ipython-input-11-a9b8dda86cb0>\u001b[0m in \u001b[0;36m<module>\u001b[0;34m\u001b[0m\n\u001b[1;32m      1\u001b[0m \u001b[0mdf\u001b[0m\u001b[0;34m\u001b[0m\u001b[0;34m\u001b[0m\u001b[0m\n\u001b[0;32m----> 2\u001b[0;31m \u001b[0mdf\u001b[0m\u001b[0;34m[\u001b[0m\u001b[0;36m9\u001b[0m\u001b[0;34m]\u001b[0m\u001b[0;34m\u001b[0m\u001b[0;34m\u001b[0m\u001b[0m\n\u001b[0m\u001b[1;32m      3\u001b[0m \u001b[0mdf\u001b[0m\u001b[0;34m[\u001b[0m\u001b[0;36m10\u001b[0m\u001b[0;34m]\u001b[0m\u001b[0;34m\u001b[0m\u001b[0;34m\u001b[0m\u001b[0m\n",
      "\u001b[0;32m/usr/local/lib/python3.6/dist-packages/pandas/core/frame.py\u001b[0m in \u001b[0;36m__getitem__\u001b[0;34m(self, key)\u001b[0m\n\u001b[1;32m   2925\u001b[0m             \u001b[0;32mif\u001b[0m \u001b[0mself\u001b[0m\u001b[0;34m.\u001b[0m\u001b[0mcolumns\u001b[0m\u001b[0;34m.\u001b[0m\u001b[0mnlevels\u001b[0m \u001b[0;34m>\u001b[0m \u001b[0;36m1\u001b[0m\u001b[0;34m:\u001b[0m\u001b[0;34m\u001b[0m\u001b[0;34m\u001b[0m\u001b[0m\n\u001b[1;32m   2926\u001b[0m                 \u001b[0;32mreturn\u001b[0m \u001b[0mself\u001b[0m\u001b[0;34m.\u001b[0m\u001b[0m_getitem_multilevel\u001b[0m\u001b[0;34m(\u001b[0m\u001b[0mkey\u001b[0m\u001b[0;34m)\u001b[0m\u001b[0;34m\u001b[0m\u001b[0;34m\u001b[0m\u001b[0m\n\u001b[0;32m-> 2927\u001b[0;31m             \u001b[0mindexer\u001b[0m \u001b[0;34m=\u001b[0m \u001b[0mself\u001b[0m\u001b[0;34m.\u001b[0m\u001b[0mcolumns\u001b[0m\u001b[0;34m.\u001b[0m\u001b[0mget_loc\u001b[0m\u001b[0;34m(\u001b[0m\u001b[0mkey\u001b[0m\u001b[0;34m)\u001b[0m\u001b[0;34m\u001b[0m\u001b[0;34m\u001b[0m\u001b[0m\n\u001b[0m\u001b[1;32m   2928\u001b[0m             \u001b[0;32mif\u001b[0m \u001b[0mis_integer\u001b[0m\u001b[0;34m(\u001b[0m\u001b[0mindexer\u001b[0m\u001b[0;34m)\u001b[0m\u001b[0;34m:\u001b[0m\u001b[0;34m\u001b[0m\u001b[0;34m\u001b[0m\u001b[0m\n\u001b[1;32m   2929\u001b[0m                 \u001b[0mindexer\u001b[0m \u001b[0;34m=\u001b[0m \u001b[0;34m[\u001b[0m\u001b[0mindexer\u001b[0m\u001b[0;34m]\u001b[0m\u001b[0;34m\u001b[0m\u001b[0;34m\u001b[0m\u001b[0m\n",
      "\u001b[0;32m/usr/local/lib/python3.6/dist-packages/pandas/core/indexes/base.py\u001b[0m in \u001b[0;36mget_loc\u001b[0;34m(self, key, method, tolerance)\u001b[0m\n\u001b[1;32m   2657\u001b[0m                 \u001b[0;32mreturn\u001b[0m \u001b[0mself\u001b[0m\u001b[0;34m.\u001b[0m\u001b[0m_engine\u001b[0m\u001b[0;34m.\u001b[0m\u001b[0mget_loc\u001b[0m\u001b[0;34m(\u001b[0m\u001b[0mkey\u001b[0m\u001b[0;34m)\u001b[0m\u001b[0;34m\u001b[0m\u001b[0;34m\u001b[0m\u001b[0m\n\u001b[1;32m   2658\u001b[0m             \u001b[0;32mexcept\u001b[0m \u001b[0mKeyError\u001b[0m\u001b[0;34m:\u001b[0m\u001b[0;34m\u001b[0m\u001b[0;34m\u001b[0m\u001b[0m\n\u001b[0;32m-> 2659\u001b[0;31m                 \u001b[0;32mreturn\u001b[0m \u001b[0mself\u001b[0m\u001b[0;34m.\u001b[0m\u001b[0m_engine\u001b[0m\u001b[0;34m.\u001b[0m\u001b[0mget_loc\u001b[0m\u001b[0;34m(\u001b[0m\u001b[0mself\u001b[0m\u001b[0;34m.\u001b[0m\u001b[0m_maybe_cast_indexer\u001b[0m\u001b[0;34m(\u001b[0m\u001b[0mkey\u001b[0m\u001b[0;34m)\u001b[0m\u001b[0;34m)\u001b[0m\u001b[0;34m\u001b[0m\u001b[0;34m\u001b[0m\u001b[0m\n\u001b[0m\u001b[1;32m   2660\u001b[0m         \u001b[0mindexer\u001b[0m \u001b[0;34m=\u001b[0m \u001b[0mself\u001b[0m\u001b[0;34m.\u001b[0m\u001b[0mget_indexer\u001b[0m\u001b[0;34m(\u001b[0m\u001b[0;34m[\u001b[0m\u001b[0mkey\u001b[0m\u001b[0;34m]\u001b[0m\u001b[0;34m,\u001b[0m \u001b[0mmethod\u001b[0m\u001b[0;34m=\u001b[0m\u001b[0mmethod\u001b[0m\u001b[0;34m,\u001b[0m \u001b[0mtolerance\u001b[0m\u001b[0;34m=\u001b[0m\u001b[0mtolerance\u001b[0m\u001b[0;34m)\u001b[0m\u001b[0;34m\u001b[0m\u001b[0;34m\u001b[0m\u001b[0m\n\u001b[1;32m   2661\u001b[0m         \u001b[0;32mif\u001b[0m \u001b[0mindexer\u001b[0m\u001b[0;34m.\u001b[0m\u001b[0mndim\u001b[0m \u001b[0;34m>\u001b[0m \u001b[0;36m1\u001b[0m \u001b[0;32mor\u001b[0m \u001b[0mindexer\u001b[0m\u001b[0;34m.\u001b[0m\u001b[0msize\u001b[0m \u001b[0;34m>\u001b[0m \u001b[0;36m1\u001b[0m\u001b[0;34m:\u001b[0m\u001b[0;34m\u001b[0m\u001b[0;34m\u001b[0m\u001b[0m\n",
      "\u001b[0;32mpandas/_libs/index.pyx\u001b[0m in \u001b[0;36mpandas._libs.index.IndexEngine.get_loc\u001b[0;34m()\u001b[0m\n",
      "\u001b[0;32mpandas/_libs/index.pyx\u001b[0m in \u001b[0;36mpandas._libs.index.IndexEngine.get_loc\u001b[0;34m()\u001b[0m\n",
      "\u001b[0;32mpandas/_libs/hashtable_class_helper.pxi\u001b[0m in \u001b[0;36mpandas._libs.hashtable.PyObjectHashTable.get_item\u001b[0;34m()\u001b[0m\n",
      "\u001b[0;32mpandas/_libs/hashtable_class_helper.pxi\u001b[0m in \u001b[0;36mpandas._libs.hashtable.PyObjectHashTable.get_item\u001b[0;34m()\u001b[0m\n",
      "\u001b[0;31mKeyError\u001b[0m: 9"
     ]
    }
   ],
   "source": [
    "df\n",
    "df[\"x\"]\n",
    "df[\"y\"]"
   ]
  },
  {
   "cell_type": "code",
   "execution_count": null,
   "metadata": {},
   "outputs": [],
   "source": []
  }
 ],
 "metadata": {
  "kernelspec": {
   "display_name": "Python 3",
   "language": "python",
   "name": "python3"
  },
  "language_info": {
   "codemirror_mode": {
    "name": "ipython",
    "version": 3
   },
   "file_extension": ".py",
   "mimetype": "text/x-python",
   "name": "python",
   "nbconvert_exporter": "python",
   "pygments_lexer": "ipython3",
   "version": "3.6.8"
  }
 },
 "nbformat": 4,
 "nbformat_minor": 2
}
