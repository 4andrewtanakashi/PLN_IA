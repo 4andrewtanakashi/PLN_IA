{
 "cells": [
  {
   "cell_type": "code",
   "execution_count": 1,
   "metadata": {},
   "outputs": [
    {
     "ename": "ModuleNotFoundError",
     "evalue": "No module named 'pandas'",
     "output_type": "error",
     "traceback": [
      "\u001b[0;31m---------------------------------------------------------------------------\u001b[0m",
      "\u001b[0;31mModuleNotFoundError\u001b[0m                       Traceback (most recent call last)",
      "\u001b[0;32m<ipython-input-1-55794d9edd76>\u001b[0m in \u001b[0;36m<module>\u001b[0;34m\u001b[0m\n\u001b[1;32m      1\u001b[0m \u001b[0;32mimport\u001b[0m \u001b[0mast\u001b[0m\u001b[0;34m\u001b[0m\u001b[0;34m\u001b[0m\u001b[0m\n\u001b[1;32m      2\u001b[0m \u001b[0;32mimport\u001b[0m \u001b[0mjson\u001b[0m\u001b[0;34m\u001b[0m\u001b[0;34m\u001b[0m\u001b[0m\n\u001b[0;32m----> 3\u001b[0;31m \u001b[0;32mimport\u001b[0m \u001b[0mpandas\u001b[0m \u001b[0;32mas\u001b[0m \u001b[0mpd\u001b[0m\u001b[0;34m\u001b[0m\u001b[0;34m\u001b[0m\u001b[0m\n\u001b[0m",
      "\u001b[0;31mModuleNotFoundError\u001b[0m: No module named 'pandas'"
     ]
    }
   ],
   "source": [
    "import ast\n",
    "import json\n",
    "import pandas as pd"
   ]
  },
  {
   "cell_type": "code",
   "execution_count": 3,
   "metadata": {},
   "outputs": [],
   "source": [
    "with open('matching', 'r') as f:\n",
    "    lista = ast.literal_eval(f.read())"
   ]
  },
  {
   "cell_type": "code",
   "execution_count": 4,
   "metadata": {},
   "outputs": [],
   "source": [
    "arq = open(\"matching2.txt\", \"w\")\n",
    "for i in lista:\n",
    "    for j in i:\n",
    "        if (j != 0 and j != 1):\n",
    "            arq.write(str(j[0]) + \"\\n\")\n",
    "            arq.write(str(j[1]) + \"\\n\")\n",
    "        else:\n",
    "            arq.write(str(j) + \"\\n\")\n",
    "\n",
    "arq.close()"
   ]
  },
  {
   "cell_type": "code",
   "execution_count": 5,
   "metadata": {},
   "outputs": [],
   "source": [
    "with open(\"product.json\") as file:\n",
    "    data = json.load(file)"
   ]
  },
  {
   "cell_type": "code",
   "execution_count": 6,
   "metadata": {},
   "outputs": [],
   "source": [
    "# ler o arquivo reescrito\n",
    "# formatacao melhorada\n",
    "arq2 = open(\"matching2.txt\", \"r\")\n",
    "lista = []\n",
    "lista2 = []\n",
    "lisM = []\n",
    "while True:\n",
    "    try:\n",
    "        x = arq2.readline().rstrip()\n",
    "\n",
    "        if (x == ''):\n",
    "            break\n",
    "#        print(x)\n",
    "        lista.append(data[x][\"title\"])\n",
    "\n",
    "        y = arq2.readline().rstrip()\n",
    "        if (y == ''):\n",
    "            break\n",
    "        lista2.append(data[y][\"title\"])\n",
    "#        print(y)\n",
    "\n",
    "        z = arq2.readline().rstrip()\n",
    "        if (z == ''):\n",
    "            break\n",
    "        lisM.append(int(z))\n",
    "        #else:\n",
    "            \n",
    "#       print(z)\n",
    "#        lista.append([(x, y), z])\n",
    "    except EOFError:\n",
    "        break\n",
    "#print(lista)\n",
    "arq2.close()"
   ]
  },
  {
   "cell_type": "code",
   "execution_count": null,
   "metadata": {},
   "outputs": [],
   "source": [
    "data = {\"x0_amer\":lista, \"x1_bahia\":lista2, \"y\":lisM}\n",
    "df = pd.DataFrame(data)\n",
    "df"
   ]
  }
 ],
 "metadata": {
  "kernelspec": {
   "display_name": "Python 3",
   "language": "python",
   "name": "python3"
  },
  "language_info": {
   "codemirror_mode": {
    "name": "ipython",
    "version": 3
   },
   "file_extension": ".py",
   "mimetype": "text/x-python",
   "name": "python",
   "nbconvert_exporter": "python",
   "pygments_lexer": "ipython3",
   "version": "3.6.7"
  }
 },
 "nbformat": 4,
 "nbformat_minor": 2
}
