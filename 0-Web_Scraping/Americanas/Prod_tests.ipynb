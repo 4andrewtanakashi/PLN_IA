{
 "cells": [
  {
   "cell_type": "code",
   "execution_count": 1,
   "metadata": {},
   "outputs": [
    {
     "ename": "ModuleNotFoundError",
     "evalue": "No module named 'bs4'",
     "output_type": "error",
     "traceback": [
      "\u001b[0;31m---------------------------------------------------------------------------\u001b[0m",
      "\u001b[0;31mModuleNotFoundError\u001b[0m                       Traceback (most recent call last)",
      "\u001b[0;32m<ipython-input-1-c096678ffc63>\u001b[0m in \u001b[0;36m<module>\u001b[0;34m\u001b[0m\n\u001b[1;32m      3\u001b[0m \u001b[0;34m\u001b[0m\u001b[0m\n\u001b[1;32m      4\u001b[0m \u001b[0;32mimport\u001b[0m \u001b[0mrequests\u001b[0m\u001b[0;34m\u001b[0m\u001b[0;34m\u001b[0m\u001b[0m\n\u001b[0;32m----> 5\u001b[0;31m \u001b[0;32mfrom\u001b[0m \u001b[0mbs4\u001b[0m \u001b[0;32mimport\u001b[0m \u001b[0mBeautifulSoup\u001b[0m\u001b[0;34m\u001b[0m\u001b[0;34m\u001b[0m\u001b[0m\n\u001b[0m\u001b[1;32m      6\u001b[0m \u001b[0;32mimport\u001b[0m \u001b[0mlogging\u001b[0m\u001b[0;34m\u001b[0m\u001b[0;34m\u001b[0m\u001b[0m\n\u001b[1;32m      7\u001b[0m \u001b[0;32mimport\u001b[0m \u001b[0mtime\u001b[0m\u001b[0;34m\u001b[0m\u001b[0;34m\u001b[0m\u001b[0m\n",
      "\u001b[0;31mModuleNotFoundError\u001b[0m: No module named 'bs4'"
     ]
    }
   ],
   "source": [
    "#!/usr/bin/python3\n",
    "# -*- coding: utf-8 -*-\n",
    "\n",
    "import requests\n",
    "from bs4 import BeautifulSoup\n",
    "import logging\n",
    "import time\n",
    "import random\n",
    "from tqdm import tqdm\n",
    "\n",
    "\n",
    "class B2W:\n",
    "    \n",
    "    # Recupera informações de um produto com base em sua URL\n",
    "    @staticmethod\n",
    "    def Get_Properties_By_Prod(url):\n",
    "\n",
    "        # Recupera página\n",
    "        page = requests.get(url)\n",
    "\n",
    "        # Extrai os dados do HTML\n",
    "        soup = BeautifulSoup(page.content, 'html.parser')\n",
    "        res = soup.find_all(\"td\")\n",
    "\n",
    "        # Dicionário para armazenar as propriedades do produto\n",
    "        values = dict()\n",
    "\n",
    "        # Recupera cada par; propriedade e valor\n",
    "        for idx in range(0, len(res), 2):\n",
    "            values[res[idx].get_text().encode('utf8')] = res[idx + 1].get_text().encode('utf8')\n",
    "\n",
    "        # Retorna valores\n",
    "        return values\n",
    "    \n",
    "    @staticmethod\n",
    "    def Get_Properties_By_Cods(codes, sleep = 0.5):\n",
    "                \n",
    "        prods = list()\n",
    "        \n",
    "        for code in tqdm(codes, desc='Downloading properties by {} products'.format(len(codes))):\n",
    "            url = 'https://www.americanas.com.br/produto/{}'.format(code)\n",
    "            prods.append(B2W.Get_Properties_By_Prod(url))\n",
    "            time.sleep(abs(sleep + random.randint(-5, 5)/20))\n",
    "        \n",
    "        return prods\n",
    "    \n",
    "    \n",
    "    # Recupera os IDs dos produtos de uma determina categoria (URL)\n",
    "    @staticmethod\n",
    "    def Get_Prod_Codes_By_Cat(url, count_limit, sleep = 0.5):\n",
    "        \n",
    "        pattern1 = 'TouchableA-sc-9v9alh-0 bCFQWo\" href=\"/produto/'\n",
    "        pattern2 = '?pfm_carac='\n",
    "        limite = 24\n",
    "        offset = 0\n",
    "        url += '?limite={}&offset={}'\n",
    "\n",
    "        codeList = list()\n",
    "        oldSize = len(codeList)\n",
    "\n",
    "        # Condição de parada para mudanças de páginas\n",
    "        stop = False\n",
    "\n",
    "        # Enquanto houver conteúdo na página\n",
    "        while not stop and len(codeList) < count_limit:\n",
    "\n",
    "            # recupera página\n",
    "            r = requests.get(url.format(limite, offset))\n",
    "\n",
    "            # Recupera texto do HTML\n",
    "            text = r.text\n",
    "\n",
    "            # Condição de parada para quantidade de produtos\n",
    "            cond = True\n",
    "\n",
    "            # Enquando houver produtos a serem extraídos\n",
    "            while (cond) and len(codeList) < count_limit:\n",
    "\n",
    "                # tenta buscas, quando não encontra lança erro\n",
    "                try:\n",
    "                    idx1 = text.index(pattern1) + len(pattern1)\n",
    "                    #idx2 = text.index(pattern2)\n",
    "                    code = text[idx1:idx1 + 9]\n",
    "                    text = text[idx1 + 9:]#[idx2 + len(idx2):]\n",
    "\n",
    "                    try:\n",
    "                        idx2 = code.index('?')\n",
    "\n",
    "                        code = code[:idx2]\n",
    "\n",
    "                    except:\n",
    "                        pass\n",
    "\n",
    "                    codeList.append(code)\n",
    "\n",
    "                except:\n",
    "                    # Fim da página\n",
    "                    cond = False\n",
    "\n",
    "            # Verifica se realizou leitura\n",
    "            if oldSize == len(codeList):\n",
    "                stop = True\n",
    "            else:\n",
    "                # Atualiza valor da quantidade de elementos anterior\n",
    "                oldSize = len(codeList)\n",
    "\n",
    "                # Muda offset da página para nova leitura\n",
    "                offset += limite\n",
    "                logging.info('{} IDs extraídos'.format(oldSize))\n",
    "                time.sleep(abs(sleep + random.randint(-5, 5)/20))\n",
    "\n",
    "        return codeList\n",
    "\n"
   ]
  },
  {
   "cell_type": "code",
   "execution_count": 3,
   "metadata": {},
   "outputs": [
    {
     "ename": "ModuleNotFoundError",
     "evalue": "No module named 'bs4'",
     "output_type": "error",
     "traceback": [
      "\u001b[0;31m---------------------------------------------------------------------------\u001b[0m",
      "\u001b[0;31mModuleNotFoundError\u001b[0m                       Traceback (most recent call last)",
      "\u001b[0;32m<ipython-input-3-d72b8ab274fc>\u001b[0m in \u001b[0;36m<module>\u001b[0;34m\u001b[0m\n\u001b[1;32m      2\u001b[0m \u001b[0;31m# -*- coding: utf-8 -*-\u001b[0m\u001b[0;34m\u001b[0m\u001b[0;34m\u001b[0m\u001b[0;34m\u001b[0m\u001b[0m\n\u001b[1;32m      3\u001b[0m \u001b[0;34m\u001b[0m\u001b[0m\n\u001b[0;32m----> 4\u001b[0;31m \u001b[0;32mfrom\u001b[0m \u001b[0mb2w\u001b[0m \u001b[0;32mimport\u001b[0m \u001b[0mB2W\u001b[0m\u001b[0;34m\u001b[0m\u001b[0;34m\u001b[0m\u001b[0m\n\u001b[0m\u001b[1;32m      5\u001b[0m \u001b[0;32mimport\u001b[0m \u001b[0mjson\u001b[0m\u001b[0;34m\u001b[0m\u001b[0;34m\u001b[0m\u001b[0m\n\u001b[1;32m      6\u001b[0m \u001b[0;34m\u001b[0m\u001b[0m\n",
      "\u001b[0;32m~/Documents/product_matching/b2w.py\u001b[0m in \u001b[0;36m<module>\u001b[0;34m\u001b[0m\n\u001b[1;32m      3\u001b[0m \u001b[0;34m\u001b[0m\u001b[0m\n\u001b[1;32m      4\u001b[0m \u001b[0;32mimport\u001b[0m \u001b[0mrequests\u001b[0m\u001b[0;34m\u001b[0m\u001b[0;34m\u001b[0m\u001b[0m\n\u001b[0;32m----> 5\u001b[0;31m \u001b[0;32mfrom\u001b[0m \u001b[0mbs4\u001b[0m \u001b[0;32mimport\u001b[0m \u001b[0mBeautifulSoup\u001b[0m\u001b[0;34m\u001b[0m\u001b[0;34m\u001b[0m\u001b[0m\n\u001b[0m\u001b[1;32m      6\u001b[0m \u001b[0;32mimport\u001b[0m \u001b[0mlogging\u001b[0m\u001b[0;34m\u001b[0m\u001b[0;34m\u001b[0m\u001b[0m\n\u001b[1;32m      7\u001b[0m \u001b[0;32mimport\u001b[0m \u001b[0mtime\u001b[0m\u001b[0;34m\u001b[0m\u001b[0;34m\u001b[0m\u001b[0m\n",
      "\u001b[0;31mModuleNotFoundError\u001b[0m: No module named 'bs4'"
     ]
    }
   ],
   "source": [
    "#!/usr/bin/python3\n",
    "# -*- coding: utf-8 -*-\n",
    "\n",
    "import json\n",
    "\n",
    "codes = B2W.Get_Prod_Codes_By_Cat(\"https://www.americanas.com.br/categoria/informatica/notebook\", 40)\n",
    "prods = B2W.Get_Properties_By_Cods(codes)\n",
    "\n",
    "file = open(\"products.txt\", \"w\")\n",
    "\n",
    "for i in prods :\n",
    "    json.dump(i, file, ensure_ascii=False, indent=4)\n",
    "    file.write(\"\\n\\n\")\n",
    "\n",
    "file.close()\n",
    "\n",
    "print(prods)\n"
   ]
  },
  {
   "cell_type": "code",
   "execution_count": 2,
   "metadata": {},
   "outputs": [
    {
     "name": "stdout",
     "output_type": "stream",
     "text": [
      "Collecting beautifulsoup4\n",
      "  Using cached https://files.pythonhosted.org/packages/1d/5d/3260694a59df0ec52f8b4883f5d23b130bc237602a1411fa670eae12351e/beautifulsoup4-4.7.1-py3-none-any.whl\n",
      "Collecting soupsieve>=1.2 (from beautifulsoup4)\n",
      "  Using cached https://files.pythonhosted.org/packages/b9/a5/7ea40d0f8676bde6e464a6435a48bc5db09b1a8f4f06d41dd997b8f3c616/soupsieve-1.9.1-py2.py3-none-any.whl\n",
      "Installing collected packages: soupsieve, beautifulsoup4\n",
      "Successfully installed beautifulsoup4-4.7.1 soupsieve-1.9.1\n"
     ]
    }
   ],
   "source": [
    "!pip install beautifulsoup4"
   ]
  }
 ],
 "metadata": {
  "kernelspec": {
   "display_name": "Python 3",
   "language": "python",
   "name": "python3"
  },
  "language_info": {
   "codemirror_mode": {
    "name": "ipython",
    "version": 3
   },
   "file_extension": ".py",
   "mimetype": "text/x-python",
   "name": "python",
   "nbconvert_exporter": "python",
   "pygments_lexer": "ipython3",
   "version": "3.6.7"
  }
 },
 "nbformat": 4,
 "nbformat_minor": 2
}
